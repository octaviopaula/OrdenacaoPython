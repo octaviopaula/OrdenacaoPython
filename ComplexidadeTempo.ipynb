{
  "nbformat": 4,
  "nbformat_minor": 0,
  "metadata": {
    "colab": {
      "provenance": [],
      "collapsed_sections": [],
      "include_colab_link": true
    },
    "kernelspec": {
      "name": "python3",
      "display_name": "Python 3"
    },
    "language_info": {
      "name": "python"
    }
  },
  "cells": [
    {
      "cell_type": "markdown",
      "metadata": {
        "id": "view-in-github",
        "colab_type": "text"
      },
      "source": [
        "<a href=\"https://colab.research.google.com/github/octaviopaula/OrdenacaoPython/blob/main/ComplexidadeTempo.ipynb\" target=\"_parent\"><img src=\"https://colab.research.google.com/assets/colab-badge.svg\" alt=\"Open In Colab\"/></a>"
      ]
    },
    {
      "cell_type": "markdown",
      "metadata": {
        "id": "xVAmiwhD71fg"
      },
      "source": [
        "> ## \n",
        "### Notebook Colab com análise da complexidade de tempo dos seguintes algoritmos de ordenação (implementar uma função para cada método):\n",
        " + ### `Bubble sort` (otimizado)\n",
        " + ### `Selection sort`\n",
        " + ### `Quick sort`\n",
        " + ### `Merge sort`\n",
        "\n",
        "### Obs.: no programa principal, gere uma lista com 1000000 de valores aleatórios entre 1 e 100000 antes de exercutar os métodos de ordenação.\n",
        "\n",
        "### **OBS.: indique a complexidade de cada um dos algoritmos.**"
      ]
    },
    {
      "cell_type": "markdown",
      "metadata": {
        "id": "tbCFap8E8S7r"
      },
      "source": [
        "Bubble sort (otimizado) - Complexidade O (n)"
      ]
    },
    {
      "cell_type": "code",
      "metadata": {
        "id": "_WSOj94MNC6d"
      },
      "source": [
        "from random import randint\n",
        "from time import time\n",
        "\n",
        "numbers =  v; #lista será criada no programa principal e o (v) é o numero q cliente colocar \n",
        "size = len(numbers)\n",
        "for i in range(size -1):\n",
        "    swapped = False \n",
        "    for j in range (size -i -1):\n",
        "        if numbers[j] > numbers[j + 1]:\n",
        "            numbers[j], numbers[j + 1] = numbers[j + 1], numbers[j]\n",
        "            swapped = True\n",
        "    if not swapped:\n",
        "        break"
      ],
      "execution_count": null,
      "outputs": []
    },
    {
      "cell_type": "markdown",
      "metadata": {
        "id": "Hi7IESP5QXTa"
      },
      "source": [
        "Selection sort - Complexibilidade O (n²)"
      ]
    },
    {
      "cell_type": "code",
      "metadata": {
        "id": "LrPm5rmSQyea"
      },
      "source": [
        "public static void selectionSort(int[] v) {\t\n",
        "\tfor (int i = 0; i < v.length; i++) {\n",
        "\t\t\n",
        "\t\tint i_menor = i;\n",
        "\t\tfor (int j = i + 1; j < v.length; j++)\n",
        "\t\t\tif (v[j] < v[i_menor])\n",
        "\t\t\t\ti_menor = j;\n",
        "\t\t\n",
        "\t\tint aux = v[i];\n",
        "\t\tv[i] = v[i_menor];\n",
        "\t\tv[i_menor] = aux;\n",
        "\t\n",
        "\t}\t\t\n",
        "}"
      ],
      "execution_count": null,
      "outputs": []
    },
    {
      "cell_type": "markdown",
      "metadata": {
        "id": "6zyOr-A7Riim"
      },
      "source": [
        "Quick sort - Complexidade Θ(n lg n)"
      ]
    },
    {
      "cell_type": "code",
      "metadata": {
        "id": "M0Kwsq_NR-I_"
      },
      "source": [
        "void swap(int A[], int i, int j){\n",
        "    int temp = A[i];\n",
        "    A[i] = A[j];\n",
        "    A[j] = temp;\n",
        "}\n",
        "\n",
        "#OU\n",
        "\n",
        "void QuickSort(TItem *v, int n) {\n",
        " QuickSort_ordena(v, 0, n-1);\n",
        "}\n",
        "void QuickSort_ordena(TItem *v, int esq, int dir) {\n",
        " int i, j;\n",
        " QuickSort_particao(v, esq, dir, &i, &j);\n",
        " if (esq < j) QuickSort_ordena(v, esq, j);\n",
        " if (i < dir) QuickSort_ordena(v, i, dir);\n",
        "}\n",
        "void QuickSort_particao(TItem *v, int esq, int dir,\n",
        " int *i, int *j) {\n",
        " TItem pivo, aux;\n",
        " *i = esq; *j = dir;\n",
        " pivo = v[(*i + *j)/2]; /* obtem o pivo x */\n",
        " do {\n",
        " while (!(pivo.chave <= v[*i].chave)) (*i)++;\n",
        " while (pivo.chave < v[*j].chave) (*j)--;\n",
        " if (*i <= *j) {\n",
        " aux = v[*i];\n",
        " v[*i] = v[*j];\n",
        " v[*j] = aux;\n",
        " (*i)++; (*j)--;\n",
        " }\n",
        " } while (*i <= *j);\n",
        "}"
      ],
      "execution_count": null,
      "outputs": []
    },
    {
      "cell_type": "markdown",
      "metadata": {
        "id": "71AB6ixRTbE5"
      },
      "source": [
        "Merge sort - Complexibilidade Θ(nlogn)"
      ]
    },
    {
      "cell_type": "code",
      "metadata": {
        "id": "4R8AMbGQYur7"
      },
      "source": [
        "# inclui  < stdio.h >\n",
        "# inclui  < stdlib.h >\n",
        "\n",
        "void  mergesort ( int * v, int n);\n",
        "void  sort ( int * v, int * c, int i, int f);\n",
        "void  merge ( int * v, int * c, int i, int m, int f);\n",
        "\n",
        "int  main ( void ) {\n",
        "  int i;\n",
        "  int v [ 8 ] = {- 1 , 7 , - 3 , 11 , 4 , - 2 , 4 , 8 };\n",
        "\n",
        "  mergesort (v, 8 );\n",
        "\n",
        "  para (i = 0 ; i < 8 ; i ++) printf ( \" % d  \" , v [i]);\n",
        "\n",
        "  putchar ( ' \\ n ' );\n",
        "\n",
        "  return  0 ;\n",
        "}\n",
        "\n",
        "/ *\n",
        "  Dado um vetor de inteiros ve um inteiro n> = 0, ordena o vetor v [0..n-1] em ordem crescente.\n",
        "* /\n",
        "void  mergesort ( int * v, int n) {\n",
        "  int * c = malloc ( sizeof ( int ) * n);\n",
        "  classificar (v, c, 0 , n - 1 );\n",
        "  livre (c);\n",
        "}\n",
        "\n",
        "/ *\n",
        "  Dado um vetor de inteiros ve dois inteiros ief, ordena o vetor v [i..f] em ordem crescente.\n",
        "  O vetor c é utilizado internamente durante a ordenação.\n",
        "* /\n",
        "void  sort ( int * v, int * c, int i, int f) {\n",
        "  if (i> = f) return ;\n",
        "\n",
        "  int m = (i + f) / 2 ;\n",
        "\n",
        "  classificar (v, c, i, m);\n",
        "  classificar (v, c, m + 1 , f);\n",
        "\n",
        "  / * Se v [m] <= v [m + 1], então v [i..f] já está ordenado. * /\n",
        "  if (v [m] <= v [m + 1 ]) retorno ;\n",
        "\n",
        "  mesclar (v, c, i, m, f);\n",
        "}\n",
        "\n",
        "\n",
        "/ *\n",
        "  Dado um vetor ve três inteiros i, mef, sendo v [i..m] ev [m + 1..f] vetores ordenados,\n",
        "  coloca os elementos destes vetores, em ordem crescente, no vetor em v [i..f].\n",
        "* /\n",
        "void  merge ( int * v, int * c, int i, int m, int f) {\n",
        "  int z,\n",
        "      iv = i, ic = m + 1 ;\n",
        "\n",
        "  para (z = i; z <= f; z ++) c [z] = v [z];\n",
        "\n",
        "  z = i;\n",
        "\n",
        "  enquanto (iv <= m && ic <= f) {\n",
        "    / * Invariante: v [i..z] possui os valores de v [iv..m] ev [ic..f] em ordem crescente. * /\n",
        "\n",
        "    if (c [iv] <= c [ic]) v [z ++] = c [iv ++];\n",
        "    else v [z ++] = c [ic ++];\n",
        "  }\n",
        "\n",
        "  enquanto (iv <= m) v [z ++] = c [iv ++];\n",
        "\n",
        "  enquanto (ic <= f) v [z ++] = c [ic ++];\n",
        "}"
      ],
      "execution_count": null,
      "outputs": []
    }
  ]
}
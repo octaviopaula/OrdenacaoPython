{
  "nbformat": 4,
  "nbformat_minor": 0,
  "metadata": {
    "colab": {
      "provenance": [],
      "include_colab_link": true
    },
    "kernelspec": {
      "name": "python3",
      "display_name": "Python 3"
    },
    "language_info": {
      "name": "python"
    }
  },
  "cells": [
    {
      "cell_type": "markdown",
      "metadata": {
        "id": "view-in-github",
        "colab_type": "text"
      },
      "source": [
        "<a href=\"https://colab.research.google.com/github/octaviopaula/OrdenacaoPython/blob/main/ComplexidadeTempo.ipynb\" target=\"_parent\"><img src=\"https://colab.research.google.com/assets/colab-badge.svg\" alt=\"Open In Colab\"/></a>"
      ]
    },
    {
      "cell_type": "markdown",
      "metadata": {
        "id": "xVAmiwhD71fg"
      },
      "source": [
        "> ##\n",
        "### Notebook Colab com análise da complexidade de tempo dos seguintes algoritmos de ordenação (implementar uma função para cada método):\n",
        " + ### `Bubble sort` (otimizado)\n",
        " + ### `Selection sort`\n",
        " + ### `Quick sort`\n",
        " + ### `Merge sort`\n",
        "\n",
        "### Obs.: no programa principal, gere uma lista com 1000000 de valores aleatórios entre 1 e 100000 antes de exercutar os métodos de ordenação.\n",
        "\n",
        "### **OBS.: indique a complexidade de cada um dos algoritmos.**"
      ]
    },
    {
      "cell_type": "markdown",
      "metadata": {
        "id": "tbCFap8E8S7r"
      },
      "source": [
        "Bubble sort (otimizado) - Complexidade O (n)"
      ]
    },
    {
      "cell_type": "code",
      "metadata": {
        "id": "_WSOj94MNC6d"
      },
      "source": [
        "from random import randint\n",
        "from time import time\n",
        "\n",
        "# Gerando uma lista com 1.000.000 de valores aleatórios entre 1 e 100.000\n",
        "lista = [randint(1, 100000) for _ in range(1000000)]\n",
        "\n",
        "# Solicitar ao usuário a quantidade de números a serem ordenados\n",
        "v = int(input(\"Digite a quantidade de números a serem ordenados: \"))\n",
        "print(\"Lista a ser ordenada:\", lista[:10])\n",
        "\n",
        "# Limitar a quantidade de números a serem ordenados ao tamanho da lista\n",
        "quantidade = min(v, len(lista))\n",
        "# Criar uma cópia dos primeiros 'quantidade' elementos da lista para ordenação\n",
        "\n",
        "numbers = lista[:v]\n",
        "start_time = time()\n",
        "size = len(numbers)\n",
        "for i in range(size -1):\n",
        "    swapped = False\n",
        "    for j in range (size -i -1):\n",
        "        if numbers[j] > numbers[j + 1]:\n",
        "            numbers[j], numbers[j + 1] = numbers[j + 1], numbers[j]\n",
        "            swapped = True\n",
        "    if not swapped:\n",
        "        break\n",
        "\n",
        "end_time = time()\n",
        "execution_time = end_time - start_time\n",
        "\n",
        "print(\"Lista ordenada:\", numbers[:10])\n",
        "\n",
        "print(\"Tempo de execução do Bubble Sort:\", execution_time, \"segundos\")"
      ],
      "execution_count": null,
      "outputs": []
    },
    {
      "cell_type": "markdown",
      "metadata": {
        "id": "Hi7IESP5QXTa"
      },
      "source": [
        "Selection sort - Complexibilidade O (n²)"
      ]
    },
    {
      "cell_type": "code",
      "metadata": {
        "id": "LrPm5rmSQyea",
        "colab": {
          "base_uri": "https://localhost:8080/"
        },
        "outputId": "9122b13f-be5a-4b5b-80d6-3673a2e5eaa8"
      },
      "source": [
        "from random import randint\n",
        "from time import time\n",
        "\n",
        "# Gerando uma lista com 1.000.000 de valores aleatórios entre 1 e 100.000\n",
        "lista = [randint(1, 100000) for _ in range(1000000)]\n",
        "\n",
        "# Solicitar ao usuário a quantidade de números a serem ordenados\n",
        "v = int(input(\"Digite a quantidade de números a serem ordenados: \"))\n",
        "print(\"Lista a ser ordenada:\", lista[:10])\n",
        "\n",
        "# Limitar a quantidade de números a serem ordenados ao tamanho da lista\n",
        "quantidade = min(v, len(lista))\n",
        "\n",
        "# Criar uma cópia dos primeiros 'quantidade' elementos da lista para ordenação\n",
        "lista_ordenar = lista[:quantidade]\n",
        "\n",
        "def selection_sort(v):\n",
        "    for i in range(len(v)):\n",
        "        i_menor = i\n",
        "        for j in range(i + 1, len(v)):\n",
        "            if v[j] < v[i_menor]:\n",
        "                i_menor = j\n",
        "\n",
        "        v[i], v[i_menor] = v[i_menor], v[i]\n",
        "\n",
        "\n",
        "start_time = time()\n",
        "selection_sort(lista_ordenar)\n",
        "end_time = time()\n",
        "\n",
        "execution_time = end_time - start_time\n",
        "\n",
        "print(\"Lista ordenada:\", lista_ordenar[:10])\n",
        "\n",
        "print(\"Tempo de execução do Selection Sort:\", execution_time, \"segundos\")\n",
        "\n"
      ],
      "execution_count": 21,
      "outputs": [
        {
          "output_type": "stream",
          "name": "stdout",
          "text": [
            "Digite a quantidade de números a serem ordenados: 10\n",
            "Lista a ser ordenada: [35023, 52667, 63480, 54836, 77904, 73555, 92400, 64536, 41857, 97462]\n",
            "Lista original: [35023, 52667, 63480, 54836, 77904, 73555, 92400, 64536, 41857, 97462]\n",
            "Lista ordenada: [35023, 41857, 52667, 54836, 63480, 64536, 73555, 77904, 92400, 97462]\n",
            "Tempo de execução do Selection Sort: 0.00010180473327636719 segundos\n"
          ]
        }
      ]
    },
    {
      "cell_type": "markdown",
      "metadata": {
        "id": "6zyOr-A7Riim"
      },
      "source": [
        "Quick sort - Complexidade Θ(n lg n)"
      ]
    },
    {
      "cell_type": "code",
      "metadata": {
        "id": "M0Kwsq_NR-I_",
        "colab": {
          "base_uri": "https://localhost:8080/"
        },
        "outputId": "f37fdcfb-e6e7-40a5-a95a-5f5e949af811"
      },
      "source": [
        "from random import randint\n",
        "from time import time\n",
        "\n",
        "# Gerando uma lista com 1.000.000 de valores aleatórios entre 1 e 100.000\n",
        "lista = [randint(1, 100000) for _ in range(1000000)]\n",
        "\n",
        "# Solicitar ao usuário a quantidade de números a serem ordenados\n",
        "v = int(input(\"Digite a quantidade de números a serem ordenados: \"))\n",
        "print(\"Lista a ser ordenada:\", lista[:10])\n",
        "\n",
        "# Limitar a quantidade de números a serem ordenados ao tamanho da lista\n",
        "quantidade = min(v, len(lista))\n",
        "\n",
        "# Criar uma cópia dos primeiros 'quantidade' elementos da lista para ordenação\n",
        "lista_ordenar = lista[:quantidade]\n",
        "\n",
        "def partition(arr, low, high):\n",
        "    pivot = arr[high]\n",
        "    i = low - 1\n",
        "    for j in range(low, high):\n",
        "        if arr[j] < pivot:\n",
        "            i += 1\n",
        "            arr[i], arr[j] = arr[j], arr[i]\n",
        "    arr[i + 1], arr[high] = arr[high], arr[i + 1]\n",
        "    return i + 1\n",
        "\n",
        "def quick_sort(arr, low, high):\n",
        "    if low < high:\n",
        "        pi = partition(arr, low, high)\n",
        "        quick_sort(arr, low, pi - 1)\n",
        "        quick_sort(arr, pi + 1, high)\n",
        "\n",
        "\n",
        "start_time = time()\n",
        "quick_sort(lista_ordenar, 0, len(lista_ordenar) - 1)\n",
        "end_time = time()\n",
        "\n",
        "execution_time = end_time - start_time\n",
        "\n",
        "print(\"Lista ordenada:\", lista_ordenar[:10])\n",
        "\n",
        "print(\"Tempo de execução do Quick Sort:\", execution_time, \"segundos\")\n"
      ],
      "execution_count": 23,
      "outputs": [
        {
          "output_type": "stream",
          "name": "stdout",
          "text": [
            "Digite a quantidade de números a serem ordenados: 10\n",
            "Lista a ser ordenada: [3659, 25740, 45772, 58293, 74774, 44245, 57447, 55207, 1969, 76168]\n",
            "Lista original: [3659, 25740, 45772, 58293, 74774, 44245, 57447, 55207, 1969, 76168]\n",
            "Lista ordenada: [1969, 3659, 25740, 44245, 45772, 55207, 57447, 58293, 74774, 76168]\n",
            "Tempo de execução do Quick Sort: 0.00014019012451171875 segundos\n"
          ]
        }
      ]
    },
    {
      "cell_type": "markdown",
      "metadata": {
        "id": "71AB6ixRTbE5"
      },
      "source": [
        "Merge sort - Complexibilidade Θ(nlogn)"
      ]
    },
    {
      "cell_type": "code",
      "metadata": {
        "id": "4R8AMbGQYur7",
        "colab": {
          "base_uri": "https://localhost:8080/"
        },
        "outputId": "13019390-7cc0-45c3-d6d5-6f66f9ccb365"
      },
      "source": [
        "from random import randint\n",
        "from time import time\n",
        "\n",
        "# Gerando uma lista com 1.000.000 de valores aleatórios entre 1 e 100.000\n",
        "lista = [randint(1, 100000) for _ in range(1000000)]\n",
        "\n",
        "# Solicitar ao usuário a quantidade de números a serem ordenados\n",
        "v = int(input(\"Digite a quantidade de números a serem ordenados: \"))\n",
        "print(\"Lista a ser ordenada:\", lista[:10])\n",
        "\n",
        "# Limitar a quantidade de números a serem ordenados ao tamanho da lista\n",
        "quantidade = min(v, len(lista))\n",
        "\n",
        "# Criar uma cópia dos primeiros 'quantidade' elementos da lista para ordenação\n",
        "lista_ordenar = lista[:quantidade]\n",
        "\n",
        "def merge_sort(arr):\n",
        "    if len(arr) > 1:\n",
        "        mid = len(arr) // 2\n",
        "        L = arr[:mid]\n",
        "        R = arr[mid:]\n",
        "\n",
        "        merge_sort(L)\n",
        "        merge_sort(R)\n",
        "\n",
        "        i = j = k = 0\n",
        "\n",
        "        while i < len(L) and j < len(R):\n",
        "            if L[i] < R[j]:\n",
        "                arr[k] = L[i]\n",
        "                i += 1\n",
        "            else:\n",
        "                arr[k] = R[j]\n",
        "                j += 1\n",
        "            k += 1\n",
        "\n",
        "        while i < len(L):\n",
        "            arr[k] = L[i]\n",
        "            i += 1\n",
        "            k += 1\n",
        "\n",
        "        while j < len(R):\n",
        "            arr[k] = R[j]\n",
        "            j += 1\n",
        "            k += 1\n",
        "\n",
        "\n",
        "start_time = time()\n",
        "merge_sort(lista_ordenar)\n",
        "end_time = time()\n",
        "\n",
        "execution_time = end_time - start_time\n",
        "\n",
        "print(\"Lista ordenada:\", lista_ordenar[:10])\n",
        "\n",
        "print(\"Tempo de execução do Merge Sort:\", execution_time, \"segundos\")\n"
      ],
      "execution_count": 24,
      "outputs": [
        {
          "output_type": "stream",
          "name": "stdout",
          "text": [
            "Digite a quantidade de números a serem ordenados: 10\n",
            "Lista a ser ordenada: [41197, 33922, 44388, 5974, 34921, 24998, 36635, 31176, 85010, 18974]\n",
            "Lista original: [41197, 33922, 44388, 5974, 34921, 24998, 36635, 31176, 85010, 18974]\n",
            "Lista ordenada: [5974, 18974, 24998, 31176, 33922, 34921, 36635, 41197, 44388, 85010]\n",
            "Tempo de execução do Merge Sort: 0.01409006118774414 segundos\n"
          ]
        }
      ]
    }
  ]
}